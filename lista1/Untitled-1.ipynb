{
 "cells": [
  {
   "cell_type": "code",
   "execution_count": null,
   "metadata": {},
   "outputs": [
    {
     "name": "stdout",
     "output_type": "stream",
     "text": [
      "2025-03-11\n"
     ]
    }
   ],
   "source": [
    "import datetime\n",
    "\n",
    "data_futura = datetime.date(2025,3,11)\n",
    "\n",
    "print(data_futura)"
   ]
  },
  {
   "cell_type": "code",
   "execution_count": null,
   "metadata": {},
   "outputs": [],
   "source": []
  },
  {
   "cell_type": "code",
   "execution_count": 10,
   "metadata": {},
   "outputs": [
    {
     "name": "stdout",
     "output_type": "stream",
     "text": [
      "2025-03-11\n"
     ]
    }
   ],
   "source": [
    "import datetime\n",
    "\n",
    "data_atual = datetime.date.today()\n",
    "\n",
    "data_futura = data_atual + datetime.timedelta(2)\n",
    "\n",
    "print(data_futura)"
   ]
  },
  {
   "cell_type": "code",
   "execution_count": 11,
   "metadata": {},
   "outputs": [
    {
     "name": "stdout",
     "output_type": "stream",
     "text": [
      "2025-03-09\n"
     ]
    }
   ],
   "source": [
    "import datetime\n",
    "\n",
    "data = datetime.date.today()\n",
    "print(data)"
   ]
  },
  {
   "cell_type": "code",
   "execution_count": 14,
   "metadata": {},
   "outputs": [
    {
     "name": "stdout",
     "output_type": "stream",
     "text": [
      "Olá Mundo\n"
     ]
    }
   ],
   "source": [
    "mensagem= {'m1': {'m2': 'Olá Mundo'}}\n",
    "print(mensagem['m1']['m2'])"
   ]
  },
  {
   "cell_type": "code",
   "execution_count": 19,
   "metadata": {},
   "outputs": [
    {
     "name": "stdout",
     "output_type": "stream",
     "text": [
      "O número é ímpar!\n"
     ]
    }
   ],
   "source": [
    "numero = int(input(\"Digite um número: \"))\n",
    "\n",
    "if numero%2==0:\n",
    "    print(\"O número é par!\")\n",
    "else:\n",
    "    print(\"O número é ímpar!\")\n"
   ]
  },
  {
   "cell_type": "code",
   "execution_count": 27,
   "metadata": {},
   "outputs": [
    {
     "name": "stdout",
     "output_type": "stream",
     "text": [
      "A media final é 6.50 a maior nota foi 8.00 e a menor nota 5.00\n"
     ]
    }
   ],
   "source": [
    "notas = []\n",
    "\n",
    "contador = 1\n",
    "\n",
    "while contador<5:\n",
    "    notas.append(float(input(f\"Digite a {contador} nota: \")))\n",
    "    contador +=1\n",
    "\n",
    "maior_nota = max(notas)\n",
    "menor_nota =min(notas)\n",
    "\n",
    "media=sum(notas)/len(notas)\n",
    "\n",
    "print(f\"A media final é {media:.2f} a maior nota foi {maior_nota:.2f} e a menor nota {menor_nota:.2f}\")\n",
    "\n",
    "\n"
   ]
  },
  {
   "cell_type": "code",
   "execution_count": null,
   "metadata": {},
   "outputs": [
    {
     "name": "stdout",
     "output_type": "stream",
     "text": [
      "Aprovado!\n"
     ]
    }
   ],
   "source": [
    "nota = []\n",
    "\n",
    "contador = 1\n",
    "\n",
    "while contador<5:\n",
    "    nota.append(float(input(f\"Digite a {contador} nota: \")))\n",
    "    contador+=1\n",
    "\n",
    "media = sum(nota) / len(nota)\n",
    "\n",
    "if media>=7:\n",
    "    print(\"Aprovado!\")\n",
    "else:\n",
    "    nota.append(float(input(\"Digite a nota da prova final:\")))\n",
    "    media = sum(nota) / len(nota)\n",
    "    if media>=5:\n",
    "        print(\"Aprovado!\")\n",
    "    else:\n",
    "        print(\"Reprovado!\")\n",
    "\n",
    "        \n",
    "\n",
    "\n"
   ]
  },
  {
   "cell_type": "code",
   "execution_count": null,
   "metadata": {},
   "outputs": [
    {
     "name": "stdout",
     "output_type": "stream",
     "text": [
      "O antecessor de 9 é: 8\n",
      "O sucessor de número é: 10\n"
     ]
    }
   ],
   "source": [
    "numero = int(input(\"Digite um número: \"))\n",
    "\n",
    "antecessor = (numero-1)\n",
    "sucessor = (numero+1)\n",
    "\n",
    "print(f\"O antecessor de {numero} é: {antecessor}\")\n",
    "print(f\"O sucessor de {numero} é: {sucessor}\")\n",
    "\n"
   ]
  },
  {
   "cell_type": "code",
   "execution_count": 37,
   "metadata": {},
   "outputs": [
    {
     "name": "stdout",
     "output_type": "stream",
     "text": [
      "O número 36.0 é um quadrado perfeito\n"
     ]
    }
   ],
   "source": [
    "import math\n",
    "\n",
    "numero = float(input(\"Digite um número: \"))\n",
    "\n",
    "raiz_quadrada = math.sqrt(numero)\n",
    "\n",
    "numero_raizquadrada = int(raiz_quadrada)\n",
    "\n",
    "if numero_raizquadrada*numero_raizquadrada == numero:\n",
    "    print(f\"O número {numero} é um quadrado perfeito\")\n",
    "else: \n",
    "    print(f\"O número {numero} não é um quadrado perfeito.\")\n",
    "\n"
   ]
  },
  {
   "cell_type": "code",
   "execution_count": 42,
   "metadata": {},
   "outputs": [
    {
     "name": "stdout",
     "output_type": "stream",
     "text": [
      "Olá mundo\n"
     ]
    }
   ],
   "source": [
    "dicionario = {\"m1\":{\"m2\": \"Olá mundo\"}}\n",
    "\n",
    "print(dicionario[\"m1\"][\"m2\"])"
   ]
  },
  {
   "cell_type": "code",
   "execution_count": 44,
   "metadata": {},
   "outputs": [
    {
     "name": "stdout",
     "output_type": "stream",
     "text": [
      "5\n",
      "O número com duas casas decimais: 5.00\n"
     ]
    }
   ],
   "source": [
    "numero_inteiro = int(input(\"Digite um número inteiro: \"))\n",
    "\n",
    "print(numero_inteiro)\n",
    "\n",
    "numero_decimal = float(numero_inteiro)\n",
    "\n",
    "print(f\"O número com duas casas decimais: {numero_decimal:.2f}\")"
   ]
  },
  {
   "cell_type": "code",
   "execution_count": 48,
   "metadata": {},
   "outputs": [
    {
     "name": "stdout",
     "output_type": "stream",
     "text": [
      "Exercícios de Python\n"
     ]
    }
   ],
   "source": [
    "frase = 'Exercícios de Java'\n",
    "print(frase.replace('Java', 'Python'))"
   ]
  },
  {
   "cell_type": "code",
   "execution_count": 49,
   "metadata": {},
   "outputs": [
    {
     "name": "stdout",
     "output_type": "stream",
     "text": [
      "Exercícios de Python\n"
     ]
    }
   ],
   "source": [
    "frase = 'Exercícios de Java'\n",
    "print(frase.replace('Java', 'Python'))"
   ]
  },
  {
   "cell_type": "code",
   "execution_count": 33,
   "metadata": {},
   "outputs": [
    {
     "name": "stdout",
     "output_type": "stream",
     "text": [
      "Hello World\n"
     ]
    }
   ],
   "source": [
    "print(\"Hello World\")"
   ]
  }
 ],
 "metadata": {
  "kernelspec": {
   "display_name": "Python 3",
   "language": "python",
   "name": "python3"
  },
  "language_info": {
   "codemirror_mode": {
    "name": "ipython",
    "version": 3
   },
   "file_extension": ".py",
   "mimetype": "text/x-python",
   "name": "python",
   "nbconvert_exporter": "python",
   "pygments_lexer": "ipython3",
   "version": "3.13.2"
  }
 },
 "nbformat": 4,
 "nbformat_minor": 2
}
